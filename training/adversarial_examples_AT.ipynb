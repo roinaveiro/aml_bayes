{
 "cells": [
  {
   "cell_type": "code",
   "execution_count": 1,
   "metadata": {},
   "outputs": [],
   "source": [
    "import torch\n",
    "import torch.nn as nn\n",
    "import torch.nn.functional as F\n",
    "import torch.optim as optim\n",
    "from torchvision import datasets, transforms\n",
    "import matplotlib.pyplot as plt\n",
    "\n",
    "from models import MLP, ResNet18, Net\n",
    "from optimizers import sgdm, fgsmm\n",
    "from utils_train import get_data_loaders, train, train_at, train_alp, train_atpx, train_ara, train_arapx, test, get_data_loaders_cifar\n",
    "\n",
    "import numpy as np\n",
    "\n",
    "%matplotlib inline\n",
    "import matplotlib.pyplot as plt"
   ]
  },
  {
   "cell_type": "code",
   "execution_count": 2,
   "metadata": {},
   "outputs": [],
   "source": [
    "seed = 0 # Set the random seed, so the experiment is reproducible\n",
    "torch.manual_seed(seed)\n",
    "use_cuda = True\n",
    "device = torch.device(\"cuda\" if use_cuda else \"cpu\")\n",
    "batch_size = 32 # We use a batch size of 32 examples while training, and 1000 while testing\n",
    "test_batch_size = 1000\n",
    "momentum = 0.5 # We will use SGD with a momentum term\n",
    "lr = 0.01 # The learning rate\n",
    "epochs = 5 # The number of epochs\n",
    "im_size = 28*28 # The size of the input. MNIST are greyscale images, 28x28 pixels each"
   ]
  },
  {
   "cell_type": "code",
   "execution_count": 3,
   "metadata": {},
   "outputs": [
    {
     "name": "stdout",
     "output_type": "stream",
     "text": [
      "Downloading http://codh.rois.ac.jp/kmnist/dataset/kmnist/train-images-idx3-ubyte.gz\n",
      "Downloading http://codh.rois.ac.jp/kmnist/dataset/kmnist/train-images-idx3-ubyte.gz to ../data/KMNIST/raw/train-images-idx3-ubyte.gz\n"
     ]
    },
    {
     "data": {
      "application/vnd.jupyter.widget-view+json": {
       "model_id": "2f6db090d8d7439bbc7e7e98785d85c3",
       "version_major": 2,
       "version_minor": 0
      },
      "text/plain": [
       "  0%|          | 0/18165135 [00:00<?, ?it/s]"
      ]
     },
     "metadata": {},
     "output_type": "display_data"
    },
    {
     "name": "stdout",
     "output_type": "stream",
     "text": [
      "Extracting ../data/KMNIST/raw/train-images-idx3-ubyte.gz to ../data/KMNIST/raw\n",
      "\n",
      "Downloading http://codh.rois.ac.jp/kmnist/dataset/kmnist/train-labels-idx1-ubyte.gz\n",
      "Downloading http://codh.rois.ac.jp/kmnist/dataset/kmnist/train-labels-idx1-ubyte.gz to ../data/KMNIST/raw/train-labels-idx1-ubyte.gz\n"
     ]
    },
    {
     "data": {
      "application/vnd.jupyter.widget-view+json": {
       "model_id": "e09a21b5d0ad41449521d3b25952f6c1",
       "version_major": 2,
       "version_minor": 0
      },
      "text/plain": [
       "  0%|          | 0/29497 [00:00<?, ?it/s]"
      ]
     },
     "metadata": {},
     "output_type": "display_data"
    },
    {
     "name": "stdout",
     "output_type": "stream",
     "text": [
      "Extracting ../data/KMNIST/raw/train-labels-idx1-ubyte.gz to ../data/KMNIST/raw\n",
      "\n",
      "Downloading http://codh.rois.ac.jp/kmnist/dataset/kmnist/t10k-images-idx3-ubyte.gz\n",
      "Downloading http://codh.rois.ac.jp/kmnist/dataset/kmnist/t10k-images-idx3-ubyte.gz to ../data/KMNIST/raw/t10k-images-idx3-ubyte.gz\n"
     ]
    },
    {
     "data": {
      "application/vnd.jupyter.widget-view+json": {
       "model_id": "c3f65178e4724ed587020bdad7c5fa32",
       "version_major": 2,
       "version_minor": 0
      },
      "text/plain": [
       "  0%|          | 0/3041136 [00:00<?, ?it/s]"
      ]
     },
     "metadata": {},
     "output_type": "display_data"
    },
    {
     "name": "stdout",
     "output_type": "stream",
     "text": [
      "Extracting ../data/KMNIST/raw/t10k-images-idx3-ubyte.gz to ../data/KMNIST/raw\n",
      "\n",
      "Downloading http://codh.rois.ac.jp/kmnist/dataset/kmnist/t10k-labels-idx1-ubyte.gz\n",
      "Downloading http://codh.rois.ac.jp/kmnist/dataset/kmnist/t10k-labels-idx1-ubyte.gz to ../data/KMNIST/raw/t10k-labels-idx1-ubyte.gz\n"
     ]
    },
    {
     "data": {
      "application/vnd.jupyter.widget-view+json": {
       "model_id": "cef56782c1e8439383711add26fdf661",
       "version_major": 2,
       "version_minor": 0
      },
      "text/plain": [
       "  0%|          | 0/5120 [00:00<?, ?it/s]"
      ]
     },
     "metadata": {},
     "output_type": "display_data"
    },
    {
     "name": "stdout",
     "output_type": "stream",
     "text": [
      "Extracting ../data/KMNIST/raw/t10k-labels-idx1-ubyte.gz to ../data/KMNIST/raw\n",
      "\n"
     ]
    },
    {
     "name": "stderr",
     "output_type": "stream",
     "text": [
      "/home/victor/miniconda3/lib/python3.7/site-packages/torchvision/datasets/mnist.py:498: UserWarning: The given NumPy array is not writeable, and PyTorch does not support non-writeable tensors. This means you can write to the underlying (supposedly non-writeable) NumPy array using the tensor. You may want to copy the array to protect its data or make it writeable before converting it to a tensor. This type of warning will be suppressed for the rest of this program. (Triggered internally at  ../torch/csrc/utils/tensor_numpy.cpp:180.)\n",
      "  return torch.from_numpy(parsed.astype(m[2], copy=False)).view(*s)\n"
     ]
    }
   ],
   "source": [
    "train_loader, test_loader = get_data_loaders(batch_size, test_batch_size)"
   ]
  },
  {
   "cell_type": "code",
   "execution_count": 4,
   "metadata": {},
   "outputs": [],
   "source": [
    "model = MLP(im_size).to(device)\n",
    "#model = ResNet18().to(device)\n",
    "#model = Net().to(device)\n",
    "optimizer = optim.SGD(model.parameters(), lr=lr,\n",
    "                      momentum=momentum)"
   ]
  },
  {
   "cell_type": "code",
   "execution_count": 5,
   "metadata": {},
   "outputs": [
    {
     "name": "stderr",
     "output_type": "stream",
     "text": [
      "/home/victor/ARA-for-AT/models.py:20: UserWarning: Implicit dimension choice for log_softmax has been deprecated. Change the call to include dim=X as an argument.\n",
      "  return F.log_softmax(x)\n"
     ]
    },
    {
     "name": "stdout",
     "output_type": "stream",
     "text": [
      "Train Epoch: 1 [0/60000 (0%)]\tLoss: 2.347875\n",
      "Train Epoch: 1 [32000/60000 (53%)]\tLoss: 0.439765\n",
      "\n",
      "Test set: Average loss: 0.6849, Accuracy: 7863/10000 (79%)\n",
      "\n",
      "Train Epoch: 2 [0/60000 (0%)]\tLoss: 0.308425\n",
      "Train Epoch: 2 [32000/60000 (53%)]\tLoss: 0.135377\n",
      "\n",
      "Test set: Average loss: 0.5961, Accuracy: 8175/10000 (82%)\n",
      "\n",
      "Train Epoch: 3 [0/60000 (0%)]\tLoss: 0.228807\n",
      "Train Epoch: 3 [32000/60000 (53%)]\tLoss: 0.300009\n",
      "\n",
      "Test set: Average loss: 0.5342, Accuracy: 8405/10000 (84%)\n",
      "\n",
      "Train Epoch: 4 [0/60000 (0%)]\tLoss: 0.251369\n",
      "Train Epoch: 4 [32000/60000 (53%)]\tLoss: 0.069124\n",
      "\n",
      "Test set: Average loss: 0.5347, Accuracy: 8424/10000 (84%)\n",
      "\n",
      "Train Epoch: 5 [0/60000 (0%)]\tLoss: 0.237378\n",
      "Train Epoch: 5 [32000/60000 (53%)]\tLoss: 0.259377\n",
      "\n",
      "Test set: Average loss: 0.4993, Accuracy: 8545/10000 (85%)\n",
      "\n"
     ]
    }
   ],
   "source": [
    "training_losses = []\n",
    "for epoch in range(1, epochs + 1):\n",
    "    train(model, device, train_loader, optimizer, epoch, training_losses)\n",
    "    test(model, device, test_loader)"
   ]
  },
  {
   "cell_type": "code",
   "execution_count": 6,
   "metadata": {},
   "outputs": [],
   "source": [
    "torch.save(model.state_dict(), 'mlp.bin')"
   ]
  },
  {
   "cell_type": "code",
   "execution_count": 7,
   "metadata": {},
   "outputs": [
    {
     "data": {
      "text/plain": [
       "<All keys matched successfully>"
      ]
     },
     "execution_count": 7,
     "metadata": {},
     "output_type": "execute_result"
    }
   ],
   "source": [
    "model = MLP(im_size).to(device)\n",
    "model.load_state_dict(torch.load('mlp.bin'))"
   ]
  },
  {
   "cell_type": "markdown",
   "metadata": {},
   "source": [
    "## Training with AT"
   ]
  },
  {
   "cell_type": "code",
   "execution_count": 8,
   "metadata": {},
   "outputs": [],
   "source": [
    "model_at = MLP(im_size).to(device)\n",
    "optimizer = optim.SGD(model_at.parameters(), lr=lr, momentum=momentum)"
   ]
  },
  {
   "cell_type": "code",
   "execution_count": 9,
   "metadata": {},
   "outputs": [
    {
     "name": "stdout",
     "output_type": "stream",
     "text": [
      "Train Epoch: 1 [0/60000 (0%)]\tLoss: 2.511095\n",
      "Train Epoch: 1 [32000/60000 (53%)]\tLoss: 0.523501\n",
      "Train Epoch: 2 [0/60000 (0%)]\tLoss: 0.481621\n",
      "Train Epoch: 2 [32000/60000 (53%)]\tLoss: 0.396906\n",
      "Train Epoch: 3 [0/60000 (0%)]\tLoss: 0.586389\n",
      "Train Epoch: 3 [32000/60000 (53%)]\tLoss: 0.602334\n",
      "Train Epoch: 4 [0/60000 (0%)]\tLoss: 0.082016\n",
      "Train Epoch: 4 [32000/60000 (53%)]\tLoss: 0.334321\n",
      "Train Epoch: 5 [0/60000 (0%)]\tLoss: 0.271904\n",
      "Train Epoch: 5 [32000/60000 (53%)]\tLoss: 0.536783\n",
      "\n",
      "Test set: Average loss: 0.4927, Accuracy: 8514/10000 (85%)\n",
      "\n"
     ]
    }
   ],
   "source": [
    "train = True\n",
    "if train:\n",
    "    training_losses = []\n",
    "    for epoch in range(1, epochs + 1):\n",
    "        train_at(model_at, device, train_loader, optimizer, epoch, training_losses)\n",
    "        #test(model, device, test_loader)\n",
    "test(model_at, device, test_loader)"
   ]
  },
  {
   "cell_type": "code",
   "execution_count": 10,
   "metadata": {},
   "outputs": [],
   "source": [
    "torch.save(model_at.state_dict(), 'mlp_at.bin')"
   ]
  },
  {
   "cell_type": "code",
   "execution_count": 11,
   "metadata": {},
   "outputs": [
    {
     "data": {
      "text/plain": [
       "<All keys matched successfully>"
      ]
     },
     "execution_count": 11,
     "metadata": {},
     "output_type": "execute_result"
    }
   ],
   "source": [
    "model_at = MLP(im_size).to(device)\n",
    "model_at.load_state_dict(torch.load('mlp_at.bin'))"
   ]
  },
  {
   "cell_type": "code",
   "execution_count": 4,
   "metadata": {},
   "outputs": [
    {
     "name": "stderr",
     "output_type": "stream",
     "text": [
      "/home/victor/sandbox/sgmcmc4ara/models.py:20: UserWarning: Implicit dimension choice for log_softmax has been deprecated. Change the call to include dim=X as an argument.\n",
      "  return F.log_softmax(x)\n"
     ]
    },
    {
     "name": "stdout",
     "output_type": "stream",
     "text": [
      "Train Epoch: 1 [0/60000 (0%)]\tLoss: 2.505699\n",
      "Train Epoch: 1 [32000/60000 (53%)]\tLoss: 0.821072\n",
      "Train Epoch: 2 [0/60000 (0%)]\tLoss: 0.388468\n",
      "Train Epoch: 2 [32000/60000 (53%)]\tLoss: 0.383399\n",
      "Train Epoch: 3 [0/60000 (0%)]\tLoss: 0.391831\n",
      "Train Epoch: 3 [32000/60000 (53%)]\tLoss: 0.485502\n",
      "Train Epoch: 4 [0/60000 (0%)]\tLoss: 0.360737\n",
      "Train Epoch: 4 [32000/60000 (53%)]\tLoss: 0.351221\n",
      "Train Epoch: 5 [0/60000 (0%)]\tLoss: 0.423970\n",
      "Train Epoch: 5 [32000/60000 (53%)]\tLoss: 0.508609\n",
      "\n",
      "Test set: Average loss: 0.1561, Accuracy: 9568/10000 (96%)\n",
      "\n"
     ]
    },
    {
     "data": {
      "text/plain": [
       "<All keys matched successfully>"
      ]
     },
     "execution_count": 4,
     "metadata": {},
     "output_type": "execute_result"
    }
   ],
   "source": [
    "model_atpx = MLP(im_size).to(device)\n",
    "optimizer = optim.SGD(model_atpx.parameters(), lr=lr, momentum=momentum)\n",
    "\n",
    "train = True\n",
    "if train:\n",
    "    training_losses = []\n",
    "    for epoch in range(1, epochs + 1):\n",
    "        train_atpx(model_atpx, device, train_loader, optimizer, epoch, training_losses)\n",
    "        #test(model, device, test_loader)\n",
    "test(model_atpx, device, test_loader)\n"
   ]
  },
  {
   "cell_type": "code",
   "execution_count": 10,
   "metadata": {},
   "outputs": [
    {
     "data": {
      "text/plain": [
       "<All keys matched successfully>"
      ]
     },
     "execution_count": 10,
     "metadata": {},
     "output_type": "execute_result"
    }
   ],
   "source": [
    "#torch.save(model_atpx.state_dict(), 'mlp_atpx.bin')\n",
    "model_atpx = MLP(im_size).to(device)\n",
    "model_atpx.load_state_dict(torch.load('mlp_atpx.bin'))"
   ]
  },
  {
   "cell_type": "markdown",
   "metadata": {},
   "source": [
    "## Training with ARAAT"
   ]
  },
  {
   "cell_type": "code",
   "execution_count": 12,
   "metadata": {},
   "outputs": [],
   "source": [
    "model_ara = MLP(im_size).to(device)\n",
    "optimizer = optim.SGD(model_ara.parameters(), lr=lr,\n",
    "                      momentum=momentum)"
   ]
  },
  {
   "cell_type": "code",
   "execution_count": 13,
   "metadata": {},
   "outputs": [
    {
     "name": "stdout",
     "output_type": "stream",
     "text": [
      "Train Epoch: 1 [0/60000 (0%)]\tLoss: 2.806077\n",
      "Train Epoch: 1 [32000/60000 (53%)]\tLoss: 0.871075\n",
      "\n",
      "Test set: Average loss: 0.8152, Accuracy: 7465/10000 (75%)\n",
      "\n",
      "Train Epoch: 2 [0/60000 (0%)]\tLoss: 1.202377\n",
      "Train Epoch: 2 [32000/60000 (53%)]\tLoss: 1.277071\n",
      "\n",
      "Test set: Average loss: 0.7230, Accuracy: 7753/10000 (78%)\n",
      "\n",
      "Train Epoch: 3 [0/60000 (0%)]\tLoss: 1.088133\n",
      "Train Epoch: 3 [32000/60000 (53%)]\tLoss: 1.359851\n",
      "\n",
      "Test set: Average loss: 0.6427, Accuracy: 8047/10000 (80%)\n",
      "\n",
      "Train Epoch: 4 [0/60000 (0%)]\tLoss: 0.797532\n",
      "Train Epoch: 4 [32000/60000 (53%)]\tLoss: 0.237829\n",
      "\n",
      "Test set: Average loss: 0.6328, Accuracy: 8076/10000 (81%)\n",
      "\n",
      "Train Epoch: 5 [0/60000 (0%)]\tLoss: 0.541822\n",
      "Train Epoch: 5 [32000/60000 (53%)]\tLoss: 0.811413\n",
      "\n",
      "Test set: Average loss: 0.6100, Accuracy: 8132/10000 (81%)\n",
      "\n",
      "\n",
      "Test set: Average loss: 0.6100, Accuracy: 8132/10000 (81%)\n",
      "\n"
     ]
    }
   ],
   "source": [
    "train = True\n",
    "if train:\n",
    "    training_losses = []\n",
    "    for epoch in range(1, epochs + 1):\n",
    "        train_ara(model_ara, device, train_loader, optimizer, epoch, training_losses)\n",
    "        test(model_ara, device, test_loader)\n",
    "test(model_ara, device, test_loader)"
   ]
  },
  {
   "cell_type": "code",
   "execution_count": 14,
   "metadata": {},
   "outputs": [
    {
     "data": {
      "text/plain": [
       "<All keys matched successfully>"
      ]
     },
     "execution_count": 14,
     "metadata": {},
     "output_type": "execute_result"
    }
   ],
   "source": [
    "torch.save(model_ara.state_dict(), 'mlp_ara.bin')\n",
    "\n",
    "model_ara = MLP(im_size).to(device)\n",
    "model_ara.load_state_dict(torch.load('mlp_ara.bin'))"
   ]
  },
  {
   "cell_type": "code",
   "execution_count": 23,
   "metadata": {},
   "outputs": [
    {
     "name": "stdout",
     "output_type": "stream",
     "text": [
      "Train Epoch: 1 [0/60000 (0%)]\tLoss: 2.881540\n",
      "Train Epoch: 1 [32000/60000 (53%)]\tLoss: 1.260510\n",
      "Train Epoch: 2 [0/60000 (0%)]\tLoss: 0.836234\n",
      "Train Epoch: 2 [32000/60000 (53%)]\tLoss: 0.972818\n",
      "Train Epoch: 3 [0/60000 (0%)]\tLoss: 0.755743\n",
      "Train Epoch: 3 [32000/60000 (53%)]\tLoss: 0.866388\n",
      "Train Epoch: 4 [0/60000 (0%)]\tLoss: 0.699592\n",
      "Train Epoch: 4 [32000/60000 (53%)]\tLoss: 0.781259\n",
      "Train Epoch: 5 [0/60000 (0%)]\tLoss: 0.753318\n",
      "Train Epoch: 5 [32000/60000 (53%)]\tLoss: 0.529514\n",
      "\n",
      "Test set: Average loss: 0.5353, Accuracy: 8171/10000 (82%)\n",
      "\n"
     ]
    }
   ],
   "source": [
    "model_arapx = MLP(im_size).to(device)\n",
    "optimizer = optim.SGD(model_arapx.parameters(), lr=lr,\n",
    "                      momentum=momentum)\n",
    "\n",
    "train = True\n",
    "if train:\n",
    "    training_losses = []\n",
    "    for epoch in range(1, epochs + 1):\n",
    "        train_arapx(model_arapx, device, train_loader, optimizer, epoch, training_losses)\n",
    "        #test(model, device, test_loader)\n",
    "test(model_arapx, device, test_loader)"
   ]
  },
  {
   "cell_type": "code",
   "execution_count": 24,
   "metadata": {},
   "outputs": [
    {
     "data": {
      "text/plain": [
       "<All keys matched successfully>"
      ]
     },
     "execution_count": 24,
     "metadata": {},
     "output_type": "execute_result"
    }
   ],
   "source": [
    "torch.save(model_arapx.state_dict(), 'mlp_arapx.bin')\n",
    "\n",
    "model_arapx = MLP(im_size).to(device)\n",
    "model_arapx.load_state_dict(torch.load('mlp_arapx.bin'))"
   ]
  },
  {
   "cell_type": "markdown",
   "metadata": {},
   "source": [
    "## Training with ALP"
   ]
  },
  {
   "cell_type": "code",
   "execution_count": 6,
   "metadata": {},
   "outputs": [
    {
     "name": "stderr",
     "output_type": "stream",
     "text": [
      "/home/victor/sandbox/sgmcmc4ara/models.py:20: UserWarning: Implicit dimension choice for log_softmax has been deprecated. Change the call to include dim=X as an argument.\n",
      "  return F.log_softmax(x)\n"
     ]
    },
    {
     "name": "stdout",
     "output_type": "stream",
     "text": [
      "Train Epoch: 1 [0/60000 (0%)]\tLoss: 2.468363\n",
      "Train Epoch: 1 [32000/60000 (53%)]\tLoss: 0.462306\n",
      "Train Epoch: 2 [0/60000 (0%)]\tLoss: 0.411466\n",
      "Train Epoch: 2 [32000/60000 (53%)]\tLoss: 0.509002\n",
      "Train Epoch: 3 [0/60000 (0%)]\tLoss: 0.379494\n",
      "Train Epoch: 3 [32000/60000 (53%)]\tLoss: 0.284056\n",
      "Train Epoch: 4 [0/60000 (0%)]\tLoss: 0.256590\n",
      "Train Epoch: 4 [32000/60000 (53%)]\tLoss: 0.509348\n",
      "Train Epoch: 5 [0/60000 (0%)]\tLoss: 0.234332\n",
      "Train Epoch: 5 [32000/60000 (53%)]\tLoss: 0.360451\n",
      "\n",
      "Test set: Average loss: 0.1593, Accuracy: 9616/10000 (96%)\n",
      "\n"
     ]
    }
   ],
   "source": [
    "model_alp = MLP(im_size).to(device)\n",
    "optimizer = optim.SGD(model_alp.parameters(), lr=lr,\n",
    "                      momentum=momentum)\n",
    "\n",
    "train = True\n",
    "if train:\n",
    "    training_losses = []\n",
    "    for epoch in range(1, epochs + 1):\n",
    "        train_alp(model_alp, device, train_loader, optimizer, epoch, training_losses)\n",
    "        #test(model, device, test_loader)\n",
    "test(model_alp, device, test_loader)"
   ]
  },
  {
   "cell_type": "code",
   "execution_count": 7,
   "metadata": {},
   "outputs": [
    {
     "data": {
      "text/plain": [
       "<All keys matched successfully>"
      ]
     },
     "execution_count": 7,
     "metadata": {},
     "output_type": "execute_result"
    }
   ],
   "source": [
    "torch.save(model_alp.state_dict(), 'mlp_alp.bin')\n",
    "\n",
    "model_alp = MLP(im_size).to(device)\n",
    "model_alp.load_state_dict(torch.load('mlp_alp.bin'))"
   ]
  },
  {
   "cell_type": "code",
   "execution_count": null,
   "metadata": {},
   "outputs": [],
   "source": []
  },
  {
   "cell_type": "code",
   "execution_count": null,
   "metadata": {},
   "outputs": [],
   "source": []
  },
  {
   "cell_type": "markdown",
   "metadata": {},
   "source": [
    "## Full atack & defense evaluation "
   ]
  },
  {
   "cell_type": "code",
   "execution_count": 17,
   "metadata": {
    "scrolled": true
   },
   "outputs": [
    {
     "name": "stdout",
     "output_type": "stream",
     "text": [
      "\n",
      "Test set: Average loss: 0.4993, Accuracy: 8545/10000 (85%)\n",
      "\n",
      "\n",
      "Test set: Average loss: 1.1171, Accuracy: 6808/10000 (68%)\n",
      "\n",
      "\n",
      "Test set: Average loss: 2.2053, Accuracy: 4325/10000 (43%)\n",
      "\n",
      "\n",
      "Test set: Average loss: 3.7761, Accuracy: 2106/10000 (21%)\n",
      "\n",
      "\n",
      "Test set: Average loss: 5.6835, Accuracy: 807/10000 (8%)\n",
      "\n",
      "\n",
      "Test set: Average loss: 7.7402, Accuracy: 264/10000 (3%)\n",
      "\n",
      "\n",
      "Test set: Average loss: 9.8303, Accuracy: 78/10000 (1%)\n",
      "\n",
      "\n",
      "Test set: Average loss: 11.8968, Accuracy: 23/10000 (0%)\n",
      "\n",
      "\n",
      "Test set: Average loss: 13.9251, Accuracy: 5/10000 (0%)\n",
      "\n",
      "\n",
      "Test set: Average loss: 15.9103, Accuracy: 2/10000 (0%)\n",
      "\n",
      "\n",
      "Test set: Average loss: 17.8553, Accuracy: 0/10000 (0%)\n",
      "\n",
      "\n",
      "Test set: Average loss: 19.7735, Accuracy: 0/10000 (0%)\n",
      "\n",
      "\n",
      "Test set: Average loss: 21.6663, Accuracy: 0/10000 (0%)\n",
      "\n",
      "\n",
      "Test set: Average loss: 23.5413, Accuracy: 0/10000 (0%)\n",
      "\n",
      "\n",
      "Test set: Average loss: 25.4012, Accuracy: 0/10000 (0%)\n",
      "\n",
      "\n",
      "Test set: Average loss: 0.4927, Accuracy: 8514/10000 (85%)\n",
      "\n",
      "\n",
      "Test set: Average loss: 0.8148, Accuracy: 7505/10000 (75%)\n",
      "\n",
      "\n",
      "Test set: Average loss: 1.2797, Accuracy: 6243/10000 (62%)\n",
      "\n",
      "\n",
      "Test set: Average loss: 1.9093, Accuracy: 4643/10000 (46%)\n",
      "\n",
      "\n",
      "Test set: Average loss: 2.7069, Accuracy: 3065/10000 (31%)\n",
      "\n",
      "\n",
      "Test set: Average loss: 3.6495, Accuracy: 1737/10000 (17%)\n",
      "\n",
      "\n",
      "Test set: Average loss: 4.6990, Accuracy: 866/10000 (9%)\n",
      "\n",
      "\n",
      "Test set: Average loss: 5.8112, Accuracy: 373/10000 (4%)\n",
      "\n",
      "\n",
      "Test set: Average loss: 6.9507, Accuracy: 135/10000 (1%)\n",
      "\n",
      "\n",
      "Test set: Average loss: 8.0933, Accuracy: 44/10000 (0%)\n",
      "\n",
      "\n",
      "Test set: Average loss: 9.2245, Accuracy: 12/10000 (0%)\n",
      "\n",
      "\n",
      "Test set: Average loss: 10.3390, Accuracy: 1/10000 (0%)\n",
      "\n",
      "\n",
      "Test set: Average loss: 11.4321, Accuracy: 1/10000 (0%)\n",
      "\n",
      "\n",
      "Test set: Average loss: 12.5117, Accuracy: 0/10000 (0%)\n",
      "\n",
      "\n",
      "Test set: Average loss: 13.5720, Accuracy: 0/10000 (0%)\n",
      "\n",
      "\n",
      "Test set: Average loss: 0.6100, Accuracy: 8132/10000 (81%)\n",
      "\n",
      "\n",
      "Test set: Average loss: 0.8068, Accuracy: 7403/10000 (74%)\n",
      "\n",
      "\n",
      "Test set: Average loss: 1.0440, Accuracy: 6630/10000 (66%)\n",
      "\n",
      "\n",
      "Test set: Average loss: 1.3243, Accuracy: 5771/10000 (58%)\n",
      "\n",
      "\n",
      "Test set: Average loss: 1.6486, Accuracy: 4809/10000 (48%)\n",
      "\n",
      "\n",
      "Test set: Average loss: 2.0153, Accuracy: 3795/10000 (38%)\n",
      "\n",
      "\n",
      "Test set: Average loss: 2.4225, Accuracy: 2897/10000 (29%)\n",
      "\n",
      "\n",
      "Test set: Average loss: 2.8659, Accuracy: 2123/10000 (21%)\n",
      "\n",
      "\n",
      "Test set: Average loss: 3.3399, Accuracy: 1477/10000 (15%)\n",
      "\n",
      "\n",
      "Test set: Average loss: 3.8372, Accuracy: 943/10000 (9%)\n",
      "\n",
      "\n",
      "Test set: Average loss: 4.3530, Accuracy: 554/10000 (6%)\n",
      "\n",
      "\n",
      "Test set: Average loss: 4.8819, Accuracy: 288/10000 (3%)\n",
      "\n",
      "\n",
      "Test set: Average loss: 5.4171, Accuracy: 141/10000 (1%)\n",
      "\n",
      "\n",
      "Test set: Average loss: 5.9567, Accuracy: 70/10000 (1%)\n",
      "\n",
      "\n",
      "Test set: Average loss: 6.4978, Accuracy: 29/10000 (0%)\n",
      "\n"
     ]
    }
   ],
   "source": [
    "xlim = 0.15\n",
    "strenghts = np.linspace(0., xlim, 15)\n",
    "\n",
    "def evaluate_attack(model, strenghts):\n",
    "    accs = []\n",
    "\n",
    "    for s in strenghts:\n",
    "\n",
    "        test_loss = 0\n",
    "        correct = 0\n",
    "        model.train()\n",
    "\n",
    "        for data, target in test_loader:\n",
    "            data, target = data.to(device), target.to(device)\n",
    "            data.requires_grad_(True)\n",
    "            v = torch.zeros_like(data)\n",
    "            xv = (data, v)\n",
    "\n",
    "            def adv_loss(x, y = target):\n",
    "                return -F.nll_loss(model(x), y)\n",
    "\n",
    "            xx, mmsgf = fgsmm(adv_loss, xv, T = 5, lr = s, gamma = 0.)\n",
    "            output = model(xx[0])\n",
    "            test_loss += F.nll_loss(output, target, reduction='sum').item() # sum up batch loss\n",
    "            pred = output.argmax(dim=1, keepdim=True) # get the index of the max log-probability\n",
    "            correct += pred.eq(target.view_as(pred)).sum().item()\n",
    "\n",
    "        test_loss /= len(test_loader.dataset)\n",
    "\n",
    "        print('\\nTest set: Average loss: {:.4f}, Accuracy: {}/{} ({:.0f}%)\\n'.format(\n",
    "            test_loss, correct, len(test_loader.dataset),\n",
    "            100. * correct / len(test_loader.dataset)))\n",
    "\n",
    "        accs.append(correct / len(test_loader.dataset))\n",
    "    return accs\n",
    "\n",
    "\n",
    "accs = evaluate_attack(model, strenghts)\n",
    "accs_at = evaluate_attack(model_at, strenghts)\n",
    "#accs_alp = evaluate_attack(model_alp, strenghts)\n",
    "#accs_atpx = evaluate_attack(model_atpx, strenghts)\n",
    "accs_ara = evaluate_attack(model_ara, strenghts)\n",
    "#accs_arapx = evaluate_attack(model_arapx, strenghts)"
   ]
  },
  {
   "cell_type": "code",
   "execution_count": 18,
   "metadata": {},
   "outputs": [
    {
     "data": {
      "image/png": "[encoded data removed]",
      "text/plain": [
       "<Figure size 432x288 with 1 Axes>"
      ]
     },
     "metadata": {
      "needs_background": "light"
     },
     "output_type": "display_data"
    }
   ],
   "source": [
    "from matplotlib import cm\n",
    "\n",
    "start = 0.0\n",
    "stop = .75\n",
    "number_of_lines = 4\n",
    "cm_subsection = np.linspace(start, stop, number_of_lines) \n",
    "\n",
    "colors = [ cm.inferno(x) for x in cm_subsection ]\n",
    "\n",
    "plt.plot(strenghts, accs, color=colors[0])\n",
    "plt.plot(strenghts, accs_at, color=colors[1])\n",
    "#plt.plot(strenghts, accs_alp, color=colors[2])\n",
    "#plt.plot(strenghts, accs_atpx, color=colors[3])\n",
    "plt.plot(strenghts, accs_ara, color=colors[2])\n",
    "#plt.plot(strenghts, accs_arapx, color=colors[5])\n",
    "plt.grid(True)\n",
    "plt.ylim([0., 1.])\n",
    "#plt.ylim([0.7, 1.])\n",
    "plt.xlim([0., xlim])\n",
    "#plt.legend(['NONE', 'AT', 'ALP', 'ATPX', 'ARA', 'ARAPX'])\n",
    "plt.legend(['NONE', 'AT', 'ARA'])\n",
    "plt.xlabel('Intensity of PGD attack ($\\ell_1$)')\n",
    "#plt.xlabel('Intensity of FGSM attack')\n",
    "plt.ylabel('Accuracy over attacked test set')\n",
    "\n",
    "#plt.savefig('img/comparison_kmnist_fgsm.png', dpi=300)\n",
    "plt.savefig('img/comparison_kmnist_pgdl1.png', dpi=300)"
   ]
  },
  {
   "cell_type": "code",
   "execution_count": null,
   "metadata": {},
   "outputs": [],
   "source": []
  }
 ],
 "metadata": {
  "@webio": {
   "lastCommId": null,
   "lastKernelId": null
  },
  "kernelspec": {
   "display_name": "Python 3",
   "language": "python",
   "name": "python3"
  },
  "language_info": {
   "codemirror_mode": {
    "name": "ipython",
    "version": 3
   },
   "file_extension": ".py",
   "mimetype": "text/x-python",
   "name": "python",
   "nbconvert_exporter": "python",
   "pygments_lexer": "ipython3",
   "version": "3.7.3"
  }
 },
 "nbformat": 4,
 "nbformat_minor": 2
}
