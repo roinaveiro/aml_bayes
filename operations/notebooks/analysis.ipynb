{
 "cells": [
  {
   "cell_type": "code",
   "execution_count": 2,
   "metadata": {},
   "outputs": [],
   "source": [
    "import glob\n",
    "import numpy as np\n",
    "import re\n",
    "import pandas as pd\n",
    "import seaborn as sns\n",
    "import matplotlib.pyplot as plt\n",
    "from matplotlib.ticker import ScalarFormatter, FormatStrFormatter\n",
    "%matplotlib inline\n",
    "from matplotlib.font_manager import FontProperties\n",
    "#from plotnine import *"
   ]
  },
  {
   "cell_type": "code",
   "execution_count": 6,
   "metadata": {},
   "outputs": [],
   "source": [
    "#\n",
    "path = \"results/multiple_classifiers_var/*\"\n",
    "#path_to_save = \"../figs/tolerance.eps\"\n",
    "name = 'flag'\n",
    "n_exp = 10\n",
    "names = glob.glob(path)\n",
    "for i in range(len(names)):\n",
    "    #\n",
    "    if i == 0:\n",
    "        #\n",
    "        final = pd.read_csv(names[i])\n",
    "        #\n",
    "    else:\n",
    "        #\n",
    "        curr = pd.read_csv(names[i])\n",
    "        final = pd.concat([final,curr])\n",
    "\n",
    "means = final.groupby(name).mean()\n",
    "devs = final.groupby(name).std() / np.sqrt(n_exp)"
   ]
  },
  {
   "cell_type": "code",
   "execution_count": 7,
   "metadata": {},
   "outputs": [
    {
     "data": {
      "text/html": [
       "<div>\n",
       "<style scoped>\n",
       "    .dataframe tbody tr th:only-of-type {\n",
       "        vertical-align: middle;\n",
       "    }\n",
       "\n",
       "    .dataframe tbody tr th {\n",
       "        vertical-align: top;\n",
       "    }\n",
       "\n",
       "    .dataframe thead th {\n",
       "        text-align: right;\n",
       "    }\n",
       "</style>\n",
       "<table border=\"1\" class=\"dataframe\">\n",
       "  <thead>\n",
       "    <tr style=\"text-align: right;\">\n",
       "      <th></th>\n",
       "      <th>acc_raw_clean</th>\n",
       "      <th>acc_raw_att</th>\n",
       "      <th>acc_acra_att_low_var</th>\n",
       "      <th>acc_acra_att_high_var</th>\n",
       "    </tr>\n",
       "    <tr>\n",
       "      <th>flag</th>\n",
       "      <th></th>\n",
       "      <th></th>\n",
       "      <th></th>\n",
       "      <th></th>\n",
       "    </tr>\n",
       "  </thead>\n",
       "  <tbody>\n",
       "    <tr>\n",
       "      <td>lr</td>\n",
       "      <td>0.926681</td>\n",
       "      <td>0.687202</td>\n",
       "      <td>0.802820</td>\n",
       "      <td>0.863557</td>\n",
       "    </tr>\n",
       "    <tr>\n",
       "      <td>nb</td>\n",
       "      <td>0.886985</td>\n",
       "      <td>0.793275</td>\n",
       "      <td>0.867462</td>\n",
       "      <td>0.883297</td>\n",
       "    </tr>\n",
       "    <tr>\n",
       "      <td>nn</td>\n",
       "      <td>0.904772</td>\n",
       "      <td>0.774403</td>\n",
       "      <td>0.767245</td>\n",
       "      <td>0.791974</td>\n",
       "    </tr>\n",
       "    <tr>\n",
       "      <td>rf</td>\n",
       "      <td>0.944252</td>\n",
       "      <td>0.681996</td>\n",
       "      <td>0.819740</td>\n",
       "      <td>0.820607</td>\n",
       "    </tr>\n",
       "  </tbody>\n",
       "</table>\n",
       "</div>"
      ],
      "text/plain": [
       "      acc_raw_clean  acc_raw_att  acc_acra_att_low_var  acc_acra_att_high_var\n",
       "flag                                                                         \n",
       "lr         0.926681     0.687202              0.802820               0.863557\n",
       "nb         0.886985     0.793275              0.867462               0.883297\n",
       "nn         0.904772     0.774403              0.767245               0.791974\n",
       "rf         0.944252     0.681996              0.819740               0.820607"
      ]
     },
     "execution_count": 7,
     "metadata": {},
     "output_type": "execute_result"
    }
   ],
   "source": [
    "means"
   ]
  },
  {
   "cell_type": "code",
   "execution_count": 8,
   "metadata": {},
   "outputs": [
    {
     "data": {
      "text/html": [
       "<div>\n",
       "<style scoped>\n",
       "    .dataframe tbody tr th:only-of-type {\n",
       "        vertical-align: middle;\n",
       "    }\n",
       "\n",
       "    .dataframe tbody tr th {\n",
       "        vertical-align: top;\n",
       "    }\n",
       "\n",
       "    .dataframe thead th {\n",
       "        text-align: right;\n",
       "    }\n",
       "</style>\n",
       "<table border=\"1\" class=\"dataframe\">\n",
       "  <thead>\n",
       "    <tr style=\"text-align: right;\">\n",
       "      <th></th>\n",
       "      <th>acc_raw_clean</th>\n",
       "      <th>acc_raw_att</th>\n",
       "      <th>acc_acra_att_low_var</th>\n",
       "      <th>acc_acra_att_high_var</th>\n",
       "    </tr>\n",
       "    <tr>\n",
       "      <th>flag</th>\n",
       "      <th></th>\n",
       "      <th></th>\n",
       "      <th></th>\n",
       "      <th></th>\n",
       "    </tr>\n",
       "  </thead>\n",
       "  <tbody>\n",
       "    <tr>\n",
       "      <td>lr</td>\n",
       "      <td>0.003495</td>\n",
       "      <td>0.007610</td>\n",
       "      <td>0.007176</td>\n",
       "      <td>0.005386</td>\n",
       "    </tr>\n",
       "    <tr>\n",
       "      <td>nb</td>\n",
       "      <td>0.004368</td>\n",
       "      <td>0.005041</td>\n",
       "      <td>0.004184</td>\n",
       "      <td>0.005370</td>\n",
       "    </tr>\n",
       "    <tr>\n",
       "      <td>nn</td>\n",
       "      <td>0.004096</td>\n",
       "      <td>0.006898</td>\n",
       "      <td>0.007122</td>\n",
       "      <td>0.005770</td>\n",
       "    </tr>\n",
       "    <tr>\n",
       "      <td>rf</td>\n",
       "      <td>0.003034</td>\n",
       "      <td>0.005156</td>\n",
       "      <td>0.006878</td>\n",
       "      <td>0.006814</td>\n",
       "    </tr>\n",
       "  </tbody>\n",
       "</table>\n",
       "</div>"
      ],
      "text/plain": [
       "      acc_raw_clean  acc_raw_att  acc_acra_att_low_var  acc_acra_att_high_var\n",
       "flag                                                                         \n",
       "lr         0.003495     0.007610              0.007176               0.005386\n",
       "nb         0.004368     0.005041              0.004184               0.005370\n",
       "nn         0.004096     0.006898              0.007122               0.005770\n",
       "rf         0.003034     0.005156              0.006878               0.006814"
      ]
     },
     "execution_count": 8,
     "metadata": {},
     "output_type": "execute_result"
    }
   ],
   "source": [
    "devs"
   ]
  },
  {
   "cell_type": "code",
   "execution_count": null,
   "metadata": {},
   "outputs": [],
   "source": []
  }
 ],
 "metadata": {
  "kernelspec": {
   "display_name": "Python 3 (ipykernel)",
   "language": "python",
   "name": "python3"
  },
  "language_info": {
   "codemirror_mode": {
    "name": "ipython",
    "version": 3
   },
   "file_extension": ".py",
   "mimetype": "text/x-python",
   "name": "python",
   "nbconvert_exporter": "python",
   "pygments_lexer": "ipython3",
   "version": "3.9.7"
  }
 },
 "nbformat": 4,
 "nbformat_minor": 2
}
